{
 "cells": [
  {
   "cell_type": "markdown",
   "metadata": {},
   "source": [
    "# Model comparison"
   ]
  },
  {
   "cell_type": "markdown",
   "metadata": {},
   "source": [
    "From Bayes' theorem it can be shown that:\n",
    "$$\n",
    "p(D | MI) = L_\\textrm{max} W\n",
    "$$\n",
    "where $L_\\textrm{max}$ is the maximum likelihood (assuming we know the optimal parameters for the model) and $W$ is termed the \"Ockham factor\", defined as:\n",
    "\n",
    "$$\n",
    "W = \\int d\\theta \\frac{L(\\theta)}{L_\\textrm{max}} P(\\theta | MI)\n",
    "$$\n",
    "which is the amount by which model $M$ is penalized by nonoptimal prior information."
   ]
  },
  {
   "cell_type": "markdown",
   "metadata": {},
   "source": [
    "General formula: we can compare two models $M_j$ and $M_k$ given the data $D$ and prior information $I$ by calculating the posterior odds ratio:\n",
    "$$\n",
    "\\frac{p(M_j | DI)}{p(M_k | DI)} = \\frac{p(M_j | I) (L_j)_\\textrm{max} W_j}{p(M_k | I) (L_k)_\\textrm{max} W_k}\n",
    "$$"
   ]
  },
  {
   "cell_type": "markdown",
   "metadata": {},
   "source": [
    "## Example: linear response models "
   ]
  },
  {
   "cell_type": "markdown",
   "metadata": {},
   "source": [
    "Which of these two models best describes the data $D \\equiv \\{(x_1, y_1), \\dots, (x_n, y_n)\\}$?\n",
    "\n",
    "Model 1 is linear in the cause:\n",
    "$$\n",
    "M_1: y_i = \\alpha x_i + e_i, \\qquad 1 \\leq i \\leq n\n",
    "$$\n",
    "In model 2 there is also a quadratic term:\n",
    "$$\n",
    "M_2: y_i = \\alpha x_i + \\beta x_i^2 + e_i\n",
    "$$"
   ]
  }
 ],
 "metadata": {
  "kernelspec": {
   "display_name": "Python 3",
   "language": "python",
   "name": "python3"
  },
  "language_info": {
   "codemirror_mode": {
    "name": "ipython",
    "version": 3
   },
   "file_extension": ".py",
   "mimetype": "text/x-python",
   "name": "python",
   "nbconvert_exporter": "python",
   "pygments_lexer": "ipython3",
   "version": "3.6.0"
  }
 },
 "nbformat": 4,
 "nbformat_minor": 2
}
