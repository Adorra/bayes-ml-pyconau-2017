{
 "cells": [
  {
   "cell_type": "markdown",
   "metadata": {
    "slideshow": {
     "slide_type": "slide"
    }
   },
   "source": [
    "# PyStan\n",
    "\n",
    "Like PyMC3, PyStan is a Python package for fitting rich Bayesian statistical models. It is a wrapper over Stan, well-respected software package for Bayesian inference.\n",
    "\n",
    "Link: http://pystan.readthedocs.io\n",
    "\n",
    "Unlike PyMC3, in which models are described with native code, PyStan is a Python wrapper over Stan."
   ]
  },
  {
   "cell_type": "markdown",
   "metadata": {
    "slideshow": {
     "slide_type": "subslide"
    }
   },
   "source": [
    "## What is Stan?\n",
    "\n",
    "<img src=\"https://raw.githubusercontent.com/stan-dev/logos/master/logo.png\" width=\"12.5%\">\n",
    "\n",
    "A high-level statistical model specification language. i.e. a flexible DSL for probabilistic programming and inference.\n",
    "\n",
    "It is also a library of algorithms for inference with the resulting models.\n",
    "\n",
    "It has several cross-language interfaces: Python, R, Julia, Stata, Matlab, shell."
   ]
  },
  {
   "cell_type": "markdown",
   "metadata": {
    "slideshow": {
     "slide_type": "subslide"
    }
   },
   "source": [
    "According to the Stan website (http://mc-stan.org):\n",
    "\n",
    "<blockquote>\n",
    "Stan® is a state-of-the-art platform for statistical modeling and high-performance statistical computation. Thousands of users rely on Stan for statistical modeling, data analysis, and prediction in the social, biological, and physical sciences, engineering, and business.\n",
    "</blockquote>\n",
    "\n",
    "You specify log density functions in Stan’s probabilistic programming language and get:\n",
    "\n",
    "- full Bayesian statistical inference with MCMC sampling (NUTS, HMC)\n",
    "\n",
    "- approximate Bayesian inference with variational inference (ADVI)\n",
    "\n",
    "- penalized maximum likelihood estimation with optimization (L-BFGS)\n",
    "\n",
    "- Stan’s math library provides differentiable probability functions & linear algebra (C++ autodiff).\n",
    "</blockquote>"
   ]
  },
  {
   "cell_type": "markdown",
   "metadata": {
    "slideshow": {
     "slide_type": "subslide"
    }
   },
   "source": [
    "## Benefits of Stan"
   ]
  },
  {
   "cell_type": "markdown",
   "metadata": {
    "slideshow": {
     "slide_type": "fragment"
    }
   },
   "source": [
    "**Usability:** general purpose, clear modelling language, integration with several languages\n",
    "\n",
    "**Scalability:** scales well to complex models with many parameters and lots of data\n",
    "\n",
    "**Efficiency:** low memory usage\n",
    "\n",
    "**Robustness:** stable numerical routines etc.\n",
    "\n",
    "i.e. it saves someone time versus doing Bayesian inference from scratch."
   ]
  },
  {
   "cell_type": "markdown",
   "metadata": {
    "slideshow": {
     "slide_type": "subslide"
    }
   },
   "source": [
    "### Similarities and differences: PyStan vs PyMC3\n",
    "\n",
    "Like PyMC3, PyStan uses:\n",
    "- the No U-Turn (NUTS) sampler (a variant of Hamiltonian Monte Carlo)\n",
    "- offers variational inference (ADVI) for approximate Bayesian inference with complex models"
   ]
  },
  {
   "cell_type": "markdown",
   "metadata": {
    "slideshow": {
     "slide_type": "subslide"
    }
   },
   "source": [
    "Unlike PyMC3, PyStan:\n",
    "- is GPL-licensed versus PyMC's BSD licence\n",
    "- requires that a C++ compiler is available at runtime\n",
    "- requires that Stan be installed, which can be challenging."
   ]
  },
  {
   "cell_type": "markdown",
   "metadata": {
    "slideshow": {
     "slide_type": "subslide"
    }
   },
   "source": [
    "### Stan docs:\n",
    "\n",
    "Amazing documentation: https://github.com/stan-dev/stan/releases/download/v2.16.0/stan-reference-2.16.0.pdf"
   ]
  },
  {
   "cell_type": "code",
   "execution_count": null,
   "metadata": {
    "slideshow": {
     "slide_type": "fragment"
    }
   },
   "outputs": [],
   "source": [
    "!conda install --yes -c conda-forge pystan"
   ]
  },
  {
   "cell_type": "code",
   "execution_count": 4,
   "metadata": {
    "collapsed": true,
    "slideshow": {
     "slide_type": "fragment"
    }
   },
   "outputs": [],
   "source": [
    "import pystan"
   ]
  },
  {
   "cell_type": "markdown",
   "metadata": {
    "slideshow": {
     "slide_type": "subslide"
    }
   },
   "source": [
    "### Eight schools example\n",
    "\n",
    "An Educational Testing Service study to analyze the effect of coaching. Based on SAT-V scores in 8 high schools in the USA.\n",
    "\n",
    "From Gelman et al., \"Bayesian Data Analysis\", 2003."
   ]
  },
  {
   "cell_type": "code",
   "execution_count": 1,
   "metadata": {
    "slideshow": {
     "slide_type": "skip"
    }
   },
   "outputs": [
    {
     "name": "stdout",
     "output_type": "stream",
     "text": [
      "Overwriting ../Data/eight_schools.csv\n"
     ]
    }
   ],
   "source": [
    "%%writefile ../Data/eight_schools.csv\n",
    "School,Estimated Treatment Effect,Standard Error of Treatment Effect\n",
    "A,28,15\n",
    "B,8,10\n",
    "C,-3,16\n",
    "D,7,11\n",
    "E,-1,9\n",
    "F,1,11\n",
    "G,18,10\n",
    "H,12,18"
   ]
  },
  {
   "cell_type": "code",
   "execution_count": 2,
   "metadata": {
    "collapsed": true,
    "slideshow": {
     "slide_type": "fragment"
    }
   },
   "outputs": [],
   "source": [
    "import pandas as pd\n",
    "schools_data = pd.read_csv('../Data/eight_schools.csv', index_col=0)"
   ]
  },
  {
   "cell_type": "code",
   "execution_count": 10,
   "metadata": {
    "slideshow": {
     "slide_type": "fragment"
    }
   },
   "outputs": [
    {
     "data": {
      "text/html": [
       "<div>\n",
       "<style>\n",
       "    .dataframe thead tr:only-child th {\n",
       "        text-align: right;\n",
       "    }\n",
       "\n",
       "    .dataframe thead th {\n",
       "        text-align: left;\n",
       "    }\n",
       "\n",
       "    .dataframe tbody tr th {\n",
       "        vertical-align: top;\n",
       "    }\n",
       "</style>\n",
       "<table border=\"1\" class=\"dataframe\">\n",
       "  <thead>\n",
       "    <tr style=\"text-align: right;\">\n",
       "      <th></th>\n",
       "      <th>Estimated Treatment Effect</th>\n",
       "      <th>Standard Error of Treatment Effect</th>\n",
       "    </tr>\n",
       "    <tr>\n",
       "      <th>School</th>\n",
       "      <th></th>\n",
       "      <th></th>\n",
       "    </tr>\n",
       "  </thead>\n",
       "  <tbody>\n",
       "    <tr>\n",
       "      <th>A</th>\n",
       "      <td>28</td>\n",
       "      <td>15</td>\n",
       "    </tr>\n",
       "    <tr>\n",
       "      <th>B</th>\n",
       "      <td>8</td>\n",
       "      <td>10</td>\n",
       "    </tr>\n",
       "    <tr>\n",
       "      <th>C</th>\n",
       "      <td>-3</td>\n",
       "      <td>16</td>\n",
       "    </tr>\n",
       "    <tr>\n",
       "      <th>D</th>\n",
       "      <td>7</td>\n",
       "      <td>11</td>\n",
       "    </tr>\n",
       "    <tr>\n",
       "      <th>E</th>\n",
       "      <td>-1</td>\n",
       "      <td>9</td>\n",
       "    </tr>\n",
       "    <tr>\n",
       "      <th>F</th>\n",
       "      <td>1</td>\n",
       "      <td>11</td>\n",
       "    </tr>\n",
       "    <tr>\n",
       "      <th>G</th>\n",
       "      <td>18</td>\n",
       "      <td>10</td>\n",
       "    </tr>\n",
       "    <tr>\n",
       "      <th>H</th>\n",
       "      <td>12</td>\n",
       "      <td>18</td>\n",
       "    </tr>\n",
       "  </tbody>\n",
       "</table>\n",
       "</div>"
      ],
      "text/plain": [
       "        Estimated Treatment Effect  Standard Error of Treatment Effect\n",
       "School                                                                \n",
       "A                               28                                  15\n",
       "B                                8                                  10\n",
       "C                               -3                                  16\n",
       "D                                7                                  11\n",
       "E                               -1                                   9\n",
       "F                                1                                  11\n",
       "G                               18                                  10\n",
       "H                               12                                  18"
      ]
     },
     "execution_count": 10,
     "metadata": {},
     "output_type": "execute_result"
    }
   ],
   "source": [
    "schools_data"
   ]
  },
  {
   "cell_type": "markdown",
   "metadata": {
    "slideshow": {
     "slide_type": "subslide"
    }
   },
   "source": [
    "Simple example:"
   ]
  },
  {
   "cell_type": "code",
   "execution_count": 27,
   "metadata": {
    "collapsed": true,
    "slideshow": {
     "slide_type": "fragment"
    }
   },
   "outputs": [],
   "source": [
    "schools_dat = {'J': 8,\n",
    "               'y': schools_data['Estimated Treatment Effect'],\n",
    "               'sigma': schools_data['Standard Error of Treatment Effect']}"
   ]
  },
  {
   "cell_type": "code",
   "execution_count": 28,
   "metadata": {
    "slideshow": {
     "slide_type": "fragment"
    }
   },
   "outputs": [
    {
     "name": "stderr",
     "output_type": "stream",
     "text": [
      "INFO:pystan:COMPILING THE C++ CODE FOR MODEL anon_model_5f0bdf0403318871b8fe126f239ca318 NOW.\n"
     ]
    }
   ],
   "source": [
    "sm = pystan.StanModel(file='8schools.stan')"
   ]
  },
  {
   "cell_type": "code",
   "execution_count": null,
   "metadata": {
    "collapsed": true,
    "slideshow": {
     "slide_type": "fragment"
    }
   },
   "outputs": [],
   "source": [
    "# Use this to look at the file contents:\n",
    "# %load 8schools.stan"
   ]
  },
  {
   "cell_type": "code",
   "execution_count": 29,
   "metadata": {
    "collapsed": true,
    "slideshow": {
     "slide_type": "subslide"
    }
   },
   "outputs": [],
   "source": [
    "fit = sm.sampling(data=schools_dat, iter=1000, chains=4)"
   ]
  },
  {
   "cell_type": "markdown",
   "metadata": {
    "slideshow": {
     "slide_type": "fragment"
    }
   },
   "source": [
    "The object `fit` returned from the `sampling` function stores samples from the posterior distribution. It has several methods:"
   ]
  },
  {
   "cell_type": "code",
   "execution_count": 30,
   "metadata": {
    "slideshow": {
     "slide_type": "fragment"
    }
   },
   "outputs": [
    {
     "data": {
      "text/plain": [
       "['_call_sampler',\n",
       " '_get_param_dims',\n",
       " '_get_param_dims_oi',\n",
       " '_get_param_fnames_oi',\n",
       " '_get_param_names',\n",
       " '_get_param_names_oi',\n",
       " '_update_param_oi',\n",
       " '_verify_has_samples',\n",
       " 'constrain_pars',\n",
       " 'constrained_param_names',\n",
       " 'data',\n",
       " 'date',\n",
       " 'extract',\n",
       " 'flatnames',\n",
       " 'get_adaptation_info',\n",
       " 'get_inits',\n",
       " 'get_logposterior',\n",
       " 'get_posterior_mean',\n",
       " 'get_sampler_params',\n",
       " 'get_seed',\n",
       " 'get_stancode',\n",
       " 'get_stanmodel',\n",
       " 'grad_log_prob',\n",
       " 'inits',\n",
       " 'log_prob',\n",
       " 'mode',\n",
       " 'model_name',\n",
       " 'model_pars',\n",
       " 'par_dims',\n",
       " 'plot',\n",
       " 'sim',\n",
       " 'stan_args',\n",
       " 'stanmodel',\n",
       " 'summary',\n",
       " 'traceplot',\n",
       " 'unconstrain_pars',\n",
       " 'unconstrained_param_names']"
      ]
     },
     "execution_count": 30,
     "metadata": {},
     "output_type": "execute_result"
    }
   ],
   "source": [
    "[method for method in dir(fit) if not method.startswith('__')]"
   ]
  },
  {
   "cell_type": "code",
   "execution_count": 20,
   "metadata": {
    "slideshow": {
     "slide_type": "subslide"
    }
   },
   "outputs": [
    {
     "data": {
      "image/png": "[encoded data removed]",
      "text/plain": [
       "<matplotlib.figure.Figure at 0x114836198>"
      ]
     },
     "execution_count": 20,
     "metadata": {},
     "output_type": "execute_result"
    }
   ],
   "source": [
    "fit.traceplot()"
   ]
  },
  {
   "cell_type": "code",
   "execution_count": 37,
   "metadata": {
    "slideshow": {
     "slide_type": "subslide"
    }
   },
   "outputs": [
    {
     "data": {
      "text/plain": [
       "odict_keys(['summary', 'c_summary', 'summary_rownames', 'summary_colnames', 'c_summary_rownames', 'c_summary_colnames'])"
      ]
     },
     "execution_count": 37,
     "metadata": {},
     "output_type": "execute_result"
    }
   ],
   "source": [
    "fit.summary().keys()"
   ]
  },
  {
   "cell_type": "code",
   "execution_count": 24,
   "metadata": {
    "slideshow": {
     "slide_type": "fragment"
    }
   },
   "outputs": [
    {
     "data": {
      "text/plain": [
       "['mu', 'tau', 'eta', 'theta']"
      ]
     },
     "execution_count": 24,
     "metadata": {},
     "output_type": "execute_result"
    }
   ],
   "source": [
    "fit.model_pars"
   ]
  },
  {
   "cell_type": "code",
   "execution_count": 35,
   "metadata": {
    "collapsed": true,
    "slideshow": {
     "slide_type": "subslide"
    }
   },
   "outputs": [],
   "source": [
    "la = fit.extract()"
   ]
  },
  {
   "cell_type": "code",
   "execution_count": 36,
   "metadata": {
    "slideshow": {
     "slide_type": "skip"
    }
   },
   "outputs": [
    {
     "data": {
      "text/plain": [
       "OrderedDict([('mu',\n",
       "              array([  5.39737558,  10.82374581,   9.77241557, ...,   8.47335861,\n",
       "                      10.18040065,   7.75017381])),\n",
       "             ('tau',\n",
       "              array([ 18.39878787,   2.20580531,   5.17464699, ...,   2.38105103,\n",
       "                       0.84783846,   3.34122508])),\n",
       "             ('eta',\n",
       "              array([[ 1.10923048,  0.67820296, -1.24586809, ..., -1.30040183,\n",
       "                       0.21294116, -0.84060164],\n",
       "                     [ 0.55472777,  0.43265566,  0.65412712, ...,  0.04314843,\n",
       "                      -0.04040927,  0.25353965],\n",
       "                     [ 0.70653597,  0.71265439, -0.60990254, ...,  0.85269469,\n",
       "                       0.51287404,  1.27176531],\n",
       "                     ..., \n",
       "                     [ 1.69354764,  1.1341684 ,  0.67697896, ...,  1.2051581 ,\n",
       "                      -0.89252463, -0.22970897],\n",
       "                     [ 0.92465094,  0.73717451, -0.14541624, ...,  0.82630178,\n",
       "                      -1.48492716, -1.42379339],\n",
       "                     [ 0.01888603, -0.32560433,  0.30250055, ..., -0.64507592,\n",
       "                      -0.16818189, -0.44590226]])),\n",
       "             ('theta',\n",
       "              array([[ 25.80587193,  17.87548806, -17.52508711, ..., -18.52844193,\n",
       "                        9.31523476, -10.06867569],\n",
       "                     [ 12.04736727,  11.77809997,  12.26662288, ...,  10.91892285,\n",
       "                       10.73461084,  11.38300492],\n",
       "                     [ 13.42848982,  13.46015046,   6.61638525, ...,  14.18480957,\n",
       "                       12.42635766,  16.35335213],\n",
       "                     ..., \n",
       "                     [ 12.50578197,  11.17387145,  10.08528007, ...,  11.34290156,\n",
       "                        6.34821192,   7.92640983],\n",
       "                     [ 10.96435528,  10.80540555,  10.05711117, ...,  10.88097108,\n",
       "                        8.9214223 ,   8.97325386],\n",
       "                     [  7.81327629,   6.66225646,   8.76089624, ...,   5.59482995,\n",
       "                        7.18824027,   6.26031399]])),\n",
       "             ('lp__',\n",
       "              array([-6.17064086, -2.40867382, -2.62208761, ..., -5.89460661,\n",
       "                     -9.08357883, -4.61174812]))])"
      ]
     },
     "execution_count": 36,
     "metadata": {},
     "output_type": "execute_result"
    }
   ],
   "source": [
    "la"
   ]
  },
  {
   "cell_type": "markdown",
   "metadata": {
    "slideshow": {
     "slide_type": "subslide"
    }
   },
   "source": [
    "### Exercise: try coding up one of the PyMC3 examples in PyStan"
   ]
  },
  {
   "cell_type": "code",
   "execution_count": 32,
   "metadata": {
    "slideshow": {
     "slide_type": "fragment"
    }
   },
   "outputs": [
    {
     "name": "stdout",
     "output_type": "stream",
     "text": [
      "Writing custom_regression.stan\n"
     ]
    }
   ],
   "source": [
    "%%writefile custom_regression.stan\n",
    "example_code = \"\"\"\n",
    "data {\n",
    "    int<lower=0> N;\n",
    "    vector[N] y;\n",
    "    vector[N] x;\n",
    "}\n",
    "parameters {\n",
    "    real alpha;\n",
    "    real beta;\n",
    "    real<lower=0> sigma;\n",
    "}\n",
    "model {\n",
    "    alpha ~ normal(0,10);\n",
    "    beta ~ normal(0,10);\n",
    "    sigma ~ cauchy(0,5);\n",
    "    y ~ normal(alpha + beta * x, sigma);\n",
    "}\n",
    "\"\"\""
   ]
  },
  {
   "cell_type": "markdown",
   "metadata": {
    "slideshow": {
     "slide_type": "slide"
    }
   },
   "source": [
    "## Interface between PyStan and Scikit-Learn\n",
    "\n",
    "Richard Gerkin has created a simple scikit-learn `Estimator` class based on Stan / PyStan that allows you to use scikit-learn  to fit and check your Stan models:\n",
    "\n",
    "https://github.com/rgerkin/pystan-sklearn"
   ]
  },
  {
   "cell_type": "code",
   "execution_count": 42,
   "metadata": {
    "slideshow": {
     "slide_type": "fragment"
    }
   },
   "outputs": [
    {
     "name": "stdout",
     "output_type": "stream",
     "text": [
      "Cloning into 'pystan-sklearn'...\n",
      "remote: Counting objects: 7, done.\u001b[K\n",
      "remote: Compressing objects: 100% (7/7), done.\u001b[K\n",
      "remote: Total 7 (delta 0), reused 7 (delta 0), pack-reused 0\u001b[K\n",
      "Unpacking objects: 100% (7/7), done.\n",
      "Checking connectivity... done.\n"
     ]
    }
   ],
   "source": [
    "!git clone https://github.com/rgerkin/pystan-sklearn.git"
   ]
  },
  {
   "cell_type": "code",
   "execution_count": 43,
   "metadata": {
    "slideshow": {
     "slide_type": "notes"
    }
   },
   "outputs": [
    {
     "name": "stdout",
     "output_type": "stream",
     "text": [
      "/Users/schofield/Dropbox/PythonCharmers/Talks/BayesML PyCon AU 2017/pystan-sklearn\n"
     ]
    }
   ],
   "source": [
    "%cd pystan-sklearn/"
   ]
  },
  {
   "cell_type": "code",
   "execution_count": null,
   "metadata": {
    "collapsed": true,
    "slideshow": {
     "slide_type": "notes"
    }
   },
   "outputs": [],
   "source": [
    "# From example.py in that repo, simplified:\n",
    "import numpy as np\n",
    "from scipy.stats import norm\n",
    "from sklearn.grid_search import GridSearchCV\n",
    "from sklearn.cross_validation import ShuffleSplit\n",
    "from __init__ import StanEstimator\n",
    "\n",
    "\n",
    "schools_dat = {'J': 8,\n",
    "               'y': [28,  8, -3,  7, -1,  1, 18, 12],\n",
    "               'sigma': [15, 10, 16, 11,  9, 11, 10, 18]}"
   ]
  },
  {
   "cell_type": "code",
   "execution_count": null,
   "metadata": {
    "collapsed": true
   },
   "outputs": [],
   "source": [
    "# First we have to make an estimator specific to our model.  \n",
    "# For now, I don't have a good way of automatically implementing this\n",
    "# in a general way based on the model code.  \n",
    "class EightSchoolsEstimator(StanEstimator):\n",
    "    # Implement a make_data method for the estimator.  \n",
    "    # This tells the sklearn estimator what things to pass along\n",
    "    # as data to the Stan model.  \n",
    "    # This is trivial here but can be more complex for larger models.  \n",
    "    def make_data(self,search_data=None):\n",
    "        data = schools_dat\n",
    "        if search_data:\n",
    "            data.update({key:value[0] for key,value in search_data.items()})\n",
    "        return data\n",
    "\n",
    "    # Implement a predict_ method for the estimator.  \n",
    "    # This tells the sklearn estimator how to make a prediction for one sample.  \n",
    "    # This is based on the prediction for the mean theta above.   \n",
    "    def predict_(self,X,j):\n",
    "        print(X,j)\n",
    "        theta_j = self.mu + self.tau * self.eta[j];\n",
    "        return theta_j\n",
    "    \n",
    "    # Implement a score_ method for the estimator.  \n",
    "    # This tells the sklearn estimator how to score one observed sample against\n",
    "    # the prediction from the model.  \n",
    "    # It is based on the fitted values of theta and sigma.     \n",
    "    def score_(self,prediction,y):\n",
    "        likelihoods = norm.pdf(y,prediction,self.sigma)\n",
    "        return np.log(likelihoods).sum()"
   ]
  },
  {
   "cell_type": "code",
   "execution_count": null,
   "metadata": {
    "collapsed": true,
    "slideshow": {
     "slide_type": "notes"
    }
   },
   "outputs": [],
   "source": [
    "# Initialize StanEstimator instance.  \n",
    "estimator = EightSchoolsEstimator() \n",
    "# Compile the model code.\n",
    "estimator.set_model(schools_code)   \n",
    "\n",
    "# Search over these parameter values.  \n",
    "search_data = {'mu':[0.3,1.0,3.0]} \n",
    "# Create a data dictionary for use with the estimator.  \n",
    "# Note that this 'data' means different things in sklearn and Stan.  \n",
    "data = estimator.make_data(search_data=search_data) \n",
    "# Set the data (set estimator attributes).  \n",
    "estimator.set_data(data) \n",
    "\n",
    "# Fraction of data held out for testing.  \n",
    "test_size = 0.1 \n",
    "# A cross-validation class from sklearn.  \n",
    "# Use the sample size variable from the Stan code here (e.g. \"J\").  \n",
    "cv = ShuffleSplit(data['J'], test_size=test_size) \n",
    "# A grid search class over parameters from sklearn.\n",
    "grid = GridSearchCV(estimator, search_data, cv=cv)   \n",
    "    \n",
    "# Set the y data.  \n",
    "# Use the observed effect from the Stan code here (e.g. \"y\").  \n",
    "y = data['y']\n",
    "# Set the X data, i.e. the covariates.  \n",
    "# In this example there is no X data so we just use an array of ones.   \n",
    "X = np.ones((len(y),1))\n",
    "#vstack((data['subject_ids'],data['test_ids'])).transpose()\n",
    "\n",
    "# Fit the model over the parameter grid.  \n",
    "grid.fit(X,y)\n",
    "\n",
    "# Print the parameter values with the best scores (best predictive accuracy).  \n",
    "print(grid.best_params_)        "
   ]
  },
  {
   "cell_type": "markdown",
   "metadata": {
    "slideshow": {
     "slide_type": "slide"
    }
   },
   "source": [
    "## References\n",
    "\n",
    "Many good tutorials (papers, videos) on both Stan and Bayesian inference in general are linked here:\n",
    "\n",
    "http://mc-stan.org/users/documentation/tutorials.html"
   ]
  },
  {
   "cell_type": "markdown",
   "metadata": {
    "slideshow": {
     "slide_type": "subslide"
    }
   },
   "source": [
    "### Examples:\n",
    "\n",
    "#### A quick-start intro to Stan for economists:\n",
    "\n",
    "Jim Savage (2016): http://nbviewer.jupyter.org/github/QuantEcon/QuantEcon.notebooks/blob/master/IntroToStan_basics_workflow.ipynb\n",
    "\n",
    "#### Modern Bayesian Tools for Time Series Analysis\n",
    "Thomas P. Harte and R. Michael Weylandt (2016): http://tharte.github.io/mbt/"
   ]
  }
 ],
 "metadata": {
  "celltoolbar": "Slideshow",
  "kernelspec": {
   "display_name": "Python 3",
   "language": "python",
   "name": "python3"
  },
  "language_info": {
   "codemirror_mode": {
    "name": "ipython",
    "version": 3
   },
   "file_extension": ".py",
   "mimetype": "text/x-python",
   "name": "python",
   "nbconvert_exporter": "python",
   "pygments_lexer": "ipython3",
   "version": "3.6.1"
  }
 },
 "nbformat": 4,
 "nbformat_minor": 2
}
