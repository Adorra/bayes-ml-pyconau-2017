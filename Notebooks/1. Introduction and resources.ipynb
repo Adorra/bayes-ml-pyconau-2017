{
 "cells": [
  {
   "cell_type": "markdown",
   "metadata": {
    "slideshow": {
     "slide_type": "slide"
    }
   },
   "source": [
    "# Background\n",
    "\n",
    "## Introduction: We all think \"Bayesian\"\n",
    "\n",
    "The Bayesian method is the natural approach to inference. It is about being explicit about our uncertainty up-front and updating our beliefs in the light of new evidence or data.\n",
    "\n",
    "For example: Natural interpretation of confidence intervals is usually wrong."
   ]
  },
  {
   "cell_type": "markdown",
   "metadata": {
    "slideshow": {
     "slide_type": "notes"
    }
   },
   "source": [
    "People reason in a way similar to the Bayesian approach. For example, confidence intervals arising from classical (frequentist) statistics usually mean something very different to what most people assume they mean.\n",
    "\n",
    "The way people naturally interpret confidence intervals from a frequentist approach to statistics is usually wrong. On the other hand, people's natural interpretation of confidence intervals corresponds well to Bayesian \"credible intervals\"."
   ]
  },
  {
   "cell_type": "markdown",
   "metadata": {
    "slideshow": {
     "slide_type": "slide"
    }
   },
   "source": [
    "## Classical / frequentist statistics\n",
    "\n",
    "- A bunch of ad-hoc devices. \n",
    "- Difficult to interpret. \n",
    "- Difficult to apply realistically.\n",
    "\n",
    "## The Bayesian mindset\n",
    "\n",
    "- Based on our natural way of thinking\n",
    "- Probability encodes your degree of certainty or uncertainty\n",
    "- Unknown parameters are modelled as probability distributions."
   ]
  },
  {
   "cell_type": "markdown",
   "metadata": {
    "slideshow": {
     "slide_type": "slide"
    }
   },
   "source": [
    "## Why use Bayesian inference?\n",
    "\n",
    "1. Because it is correct. Bayes' theorem is a theorem. If you accept the axioms of probability theory, it is true. You can ignore it, but it won't go away.\n",
    "\n",
    "2. Because it is useful for applications."
   ]
  },
  {
   "cell_type": "markdown",
   "metadata": {
    "slideshow": {
     "slide_type": "slide"
    }
   },
   "source": [
    "## Applications\n",
    "\n",
    "- prediction (e.g. outcome of an election, of the financial markets ...)\n",
    "- classification (does a person with these symptoms have this disease?; OCR; speech recognition)\n",
    "- scientific inference\n",
    "- hypothesis testing (single and multiple)\n",
    "- modelling\n",
    "- uncertainty analysis\n",
    "- physics: thermodynamics, crystallography, astronomy, ...\n",
    "- biology and medicine: bioinformatics (sequencing), predicting drug targets\n",
    "- ranking for information retrieval, spam detection, ... and other computer science applications\n"
   ]
  },
  {
   "cell_type": "markdown",
   "metadata": {
    "slideshow": {
     "slide_type": "slide"
    }
   },
   "source": [
    "## How to do Bayesian inference?\n",
    "1. Method 1: **mathematical analysis**. Exact but intractable for complex models. Also hard to begin in the field.\n",
    "\n",
    "2. Method 2: **probabilistic programming**. Computing power is cheap! Models can be more complex."
   ]
  },
  {
   "cell_type": "markdown",
   "metadata": {
    "slideshow": {
     "slide_type": "slide"
    }
   },
   "source": [
    "## Probability as logic"
   ]
  },
  {
   "cell_type": "markdown",
   "metadata": {
    "slideshow": {
     "slide_type": "subslide"
    }
   },
   "source": [
    "### Deductive reasoning\n",
    "\n",
    "Deductive reason can be analyzed into repeated application of two syllogisms:\n",
    "\n",
    "<hr>\n",
    "\n",
    "<center>\n",
    "If A is true, then B is true.\n",
    "\n",
    "A is true.\n",
    "\n",
    "Therefore, B is true.\n",
    "</center>\n",
    "\n",
    "and its inverse:\n",
    "\n",
    "<center>\n",
    "If A is true, then B is true.\n",
    "\n",
    "B is false.\n",
    "\n",
    "Therefore, A is false.\n",
    "</center>\n",
    "\n",
    "<hr>"
   ]
  },
  {
   "cell_type": "markdown",
   "metadata": {
    "slideshow": {
     "slide_type": "subslide"
    }
   },
   "source": [
    "### Intuitive reasoning\n",
    "\n",
    "As [Jaynes 2003] notes, we would like to use this kind of reasoning all the time, but most of the time **we do not have the right kind of information**. We fall back on weaker syllogisms like:\n",
    "\n",
    "<hr>\n",
    "\n",
    "If A is true, then B is true.\n",
    "\n",
    "B is true.\n",
    "\n",
    "Therefore, A becomes more plausible.\n",
    "\n",
    "<hr>\n",
    "\n"
   ]
  },
  {
   "cell_type": "markdown",
   "metadata": {
    "slideshow": {
     "slide_type": "subslide"
    }
   },
   "source": [
    "#### Example: probability of rain\n",
    "\n",
    "A $\\equiv$ it will start to rain by 10am at the latest.\n",
    "\n",
    "B $\\equiv$ the sky will become cloudy before 10am.\n",
    "\n",
    "If you notice clouds at 9:45am, your common sense obeys the weak syllogism above. You are more likely to take an umbrella."
   ]
  },
  {
   "cell_type": "markdown",
   "metadata": {
    "slideshow": {
     "slide_type": "subslide"
    }
   },
   "source": [
    "What is the logical connection?\n",
    "\n",
    "rain $\\implies$ clouds\n",
    "\n",
    "Notice that the physical cause is in the opposite direction:\n",
    "\n",
    "clouds $\\implies$ rain\n",
    "\n",
    "The **logical connection** is what is most relevant to our inference."
   ]
  },
  {
   "cell_type": "markdown",
   "metadata": {
    "slideshow": {
     "slide_type": "subslide"
    }
   },
   "source": [
    "### Weak syllogism 2\n",
    "\n",
    "There are other weaker syllogisms that we use every day in our reasoning, such as:\n",
    "\n",
    "<hr>\n",
    "\n",
    "If A is true, then B is true.\n",
    "\n",
    "A is false.\n",
    "\n",
    "Therefore, B becomes less plausible.\n",
    "\n",
    "<hr>"
   ]
  },
  {
   "cell_type": "markdown",
   "metadata": {
    "slideshow": {
     "slide_type": "fragment"
    }
   },
   "source": [
    "#### Example: disease symptoms\n",
    "\n",
    "Symptoms of the Zika virus include conjunctivitis (red eyes) and skin rash.\n",
    "\n",
    "This traveller doesn't have conjunctivitis or skin rash.\n",
    "\n",
    "Therefore, it is less likely that he/she has the Zika virus."
   ]
  },
  {
   "cell_type": "markdown",
   "metadata": {
    "slideshow": {
     "slide_type": "subslide"
    }
   },
   "source": [
    "### Weak syllogism 3\n",
    "\n",
    "<hr>\n",
    "\n",
    "If A is true, then B becomes more plausible.\n",
    "\n",
    "B is true.\n",
    "\n",
    "Therefore, A becomes more plausible.\n",
    "\n",
    "<hr>"
   ]
  },
  {
   "cell_type": "markdown",
   "metadata": {
    "slideshow": {
     "slide_type": "fragment"
    }
   },
   "source": [
    "#### Example:\n",
    "\n",
    "Aston-Martin owners are usually rich.\n",
    "\n",
    "Bill Gates is rich.\n",
    "\n",
    "Therefore, it is more likely that Bill Gates owns an Aston-Martin."
   ]
  },
  {
   "cell_type": "markdown",
   "metadata": {
    "slideshow": {
     "slide_type": "notes"
    }
   },
   "source": [
    "### Aside\n",
    "\n",
    "There are many more complex weak syllogisms that we use easily and intuitively in everyday reasoning. Polya [1945, 1954] wrote three books about plausible reasoning, pointing out many interesting examples and showing that we do plausible reasoning by applying definite rules."
   ]
  },
  {
   "cell_type": "markdown",
   "metadata": {
    "slideshow": {
     "slide_type": "slide"
    }
   },
   "source": [
    "### Meaning for probability theory\n",
    "\n",
    "These principles may be made **quantitative**, with useful applications.\n",
    "\n",
    "How? With the Cox-Jaynes interpretation of probability theory and **Bayes theorem**.\n",
    "\n",
    "[See Terenin and Draper, \"Cox's Theorem and the Jaynesian Interpretation of Probability\"]"
   ]
  },
  {
   "cell_type": "markdown",
   "metadata": {
    "slideshow": {
     "slide_type": "slide"
    }
   },
   "source": [
    "## Bayes' theorem\n",
    "\n",
    "- X = prior information\n",
    "- H = hypothesis\n",
    "- D = data\n",
    "\n",
    "$$P(H | DX) = P(H | X) \\frac{P(D | HX)}{P(D | X)}$$\n",
    "\n",
    "The vertical bar means \"conditional upon\". Bayes' theorem follows simply from the definition of conditional probability: $P ( A | B ) = \\frac{P (A \\cap B)}{P(B)}$.\n",
    "\n",
    "We call these things:\n",
    "\n",
    "$$ \\textrm{posterior} = \\textrm{prior} \\times \\frac{\\textrm{likelihood}}{\\textrm{evidence}}$$"
   ]
  },
  {
   "cell_type": "markdown",
   "metadata": {
    "slideshow": {
     "slide_type": "subslide"
    }
   },
   "source": [
    "### Prior information\n",
    "\n",
    "It is important to specify the **prior information** carefully before we have a well-posed problem. Then this equation tells us what probabilities we need to find in order to see what conclusions are justified by our evidence.\n",
    "\n",
    "Often this is regarded as a nuisance. It is, however, an **opportunity** to improve models, especially when data is sparse.\n",
    "\n",
    "[See \"N is never large\", Andrew Gelman: http://andrewgelman.com/2005/07/31/n_is_never_larg/]"
   ]
  },
  {
   "cell_type": "markdown",
   "metadata": {
    "slideshow": {
     "slide_type": "slide"
    }
   },
   "source": [
    "### Applications\n",
    "\n",
    "- Learning when a self-driving car should brake from LIDAR data\n",
    "- Learning the effectiveness of a medicine from clinical data\n",
    "- Learning the elasticity of demand from economic data\n",
    "- Learning the structure of a distant galaxy from telescopic data\n",
    "- Learning whether to accept or reject a box of widgets from industrial QC control data"
   ]
  },
  {
   "cell_type": "markdown",
   "metadata": {
    "slideshow": {
     "slide_type": "slide"
    }
   },
   "source": [
    "## Bayesian updating"
   ]
  },
  {
   "cell_type": "code",
   "execution_count": 13,
   "metadata": {
    "collapsed": true,
    "slideshow": {
     "slide_type": "skip"
    }
   },
   "outputs": [],
   "source": [
    "%matplotlib inline\n",
    "from IPython.core.pylabtools import figsize\n",
    "import numpy as np\n",
    "from matplotlib import pyplot as plt\n",
    "figsize(11, 9)"
   ]
  },
  {
   "cell_type": "code",
   "execution_count": 23,
   "metadata": {
    "slideshow": {
     "slide_type": "subslide"
    }
   },
   "outputs": [
    {
     "data": {
      "image/png": "[encoded data removed]",
      "text/plain": [
       "<matplotlib.figure.Figure at 0x10fd34630>"
      ]
     },
     "metadata": {},
     "output_type": "display_data"
    }
   ],
   "source": [
    "%run bayesian_updating_plot.py"
   ]
  },
  {
   "cell_type": "markdown",
   "metadata": {
    "slideshow": {
     "slide_type": "slide"
    }
   },
   "source": [
    "## Outline of solving problems with Bayesian reasoning"
   ]
  },
  {
   "cell_type": "markdown",
   "metadata": {
    "slideshow": {
     "slide_type": "skip"
    }
   },
   "source": [
    "Tim Salimans, the winner of the Kaggle contest \"Observing Dark Words\", used Bayesian inference to find the best locations for halos. His solution is presented well in \"Bayesian Methods for Hackers\", chapter 5.\n",
    "\n",
    "Summary:"
   ]
  },
  {
   "cell_type": "markdown",
   "metadata": {
    "slideshow": {
     "slide_type": "slide"
    }
   },
   "source": [
    "## Steps to doing Bayesian inference\n",
    "\n",
    "1. Construct a prior distribution $p(x)$ for what you are predicting ($x$) -- i.e. formulate our expectations about the thing before looking at the data."
   ]
  },
  {
   "cell_type": "markdown",
   "metadata": {
    "slideshow": {
     "slide_type": "subslide"
    }
   },
   "source": [
    "&nbsp; &nbsp; 2. Construct a probabilistic model for the data given the prior information: $p(e | x)$."
   ]
  },
  {
   "cell_type": "markdown",
   "metadata": {
    "slideshow": {
     "slide_type": "subslide"
    }
   },
   "source": [
    "&nbsp; &nbsp; 3. Use Bayes’ rule to calculate the posterior distribution of the unknown quantities $x$.\n",
    "\n",
    "In other words, use the data to determine a **probability distribution** over the unknowns."
   ]
  },
  {
   "cell_type": "markdown",
   "metadata": {
    "slideshow": {
     "slide_type": "subslide"
    }
   },
   "source": [
    "&nbsp; &nbsp; 4. Minimize the expected loss with respect to the posterior distribution over the predictions for\n",
    "$x$: \n",
    "\n",
    "$$\n",
    "\\hat{x} = \\mathrm{argmin}_\\mathrm{prediction} E p(x|e) [L(\\mathrm{prediction}, x)]\n",
    "$$\n",
    "\n",
    "i.e. tune our predictions to be as good as possible for the given error metric.\n",
    "\n",
    "This may be the maximum a-posteriori (\"MAP\") estimate or something else."
   ]
  },
  {
   "cell_type": "markdown",
   "metadata": {
    "slideshow": {
     "slide_type": "slide"
    }
   },
   "source": [
    "## Problems"
   ]
  },
  {
   "cell_type": "markdown",
   "metadata": {
    "slideshow": {
     "slide_type": "subslide"
    }
   },
   "source": [
    "### Problem 1: probability of a disease given a symptom \n",
    "\n",
    "Meningitis ($M$) can cause a a stiff neck ($S$), though there are many other causes for $S$, too.\n",
    "\n",
    "We’d like to use $S$ as a diagnostic symptom and estimate $p(M|S)$.\n",
    "\n",
    "Studies can easily estimate the prior probabilities $p(M)$, $p(S)$ and $p(S|M)$:"
   ]
  },
  {
   "cell_type": "markdown",
   "metadata": {
    "slideshow": {
     "slide_type": "subslide"
    }
   },
   "source": [
    "- $p(S|M)=0.7$\n",
    "- $p(S)=0.01$\n",
    "- $p(M)=0.00002$"
   ]
  },
  {
   "cell_type": "code",
   "execution_count": 24,
   "metadata": {
    "collapsed": true,
    "slideshow": {
     "slide_type": "fragment"
    }
   },
   "outputs": [],
   "source": [
    "prob_s_given_m = 0.7\n",
    "prob_s = 0.01\n",
    "prob_m = 0.00002"
   ]
  },
  {
   "cell_type": "markdown",
   "metadata": {
    "slideshow": {
     "slide_type": "subslide"
    }
   },
   "source": [
    "Applying Bayes’ Rule:\n",
    "     $p(M|S) = \\frac{p(S|M) p(M)}{p(S)}$"
   ]
  },
  {
   "cell_type": "code",
   "execution_count": 25,
   "metadata": {
    "slideshow": {
     "slide_type": "fragment"
    }
   },
   "outputs": [
    {
     "data": {
      "text/plain": [
       "0.0014"
      ]
     },
     "execution_count": 25,
     "metadata": {},
     "output_type": "execute_result"
    }
   ],
   "source": [
    "prob_m_given_s = prob_s_given_m * prob_m / prob_s\n",
    "prob_m_given_s"
   ]
  },
  {
   "cell_type": "markdown",
   "metadata": {
    "slideshow": {
     "slide_type": "slide"
    }
   },
   "source": [
    "### Problem 2: maximum entropy\n",
    "\n",
    "Derive a prior distribution for Australian postcodes using this information:\n",
    "\n",
    "- Population statistics for different states: (from a population dataset)\n",
    "- Prior knowledge that 50% of all mail is sent to postcodes 2000, 2001, 3000, 3001.\n",
    "- Prior belief that the proportion of mail for other states that is sent to capital cities (i.e. 5000, 5001 etc.) is the same as for Sydney and Melbourne."
   ]
  },
  {
   "cell_type": "markdown",
   "metadata": {
    "slideshow": {
     "slide_type": "slide"
    }
   },
   "source": [
    "# Resources"
   ]
  },
  {
   "cell_type": "markdown",
   "metadata": {
    "slideshow": {
     "slide_type": "subslide"
    }
   },
   "source": [
    "## Books\n",
    "\n",
    "- Edwin T. Jaynes: \"Probability Theory: The Logic of Science\". (Cambridge University Press). A masterpiece. Deep and very interesting. "
   ]
  },
  {
   "cell_type": "markdown",
   "metadata": {
    "slideshow": {
     "slide_type": "fragment"
    }
   },
   "source": [
    "- Michael I Jordan's lecture notes (UC Berkeley): https://people.eecs.berkeley.edu/~jordan/courses.html\n",
    "\n",
    "    - Bayesian modeling and inference, Spring 2010\n",
    "    - Practical machine learning, Fall 2009"
   ]
  },
  {
   "cell_type": "markdown",
   "metadata": {
    "slideshow": {
     "slide_type": "fragment"
    }
   },
   "source": [
    "- D. S. Sivia with J Skilling: \"Data analysis: A Bayesian tutorial\""
   ]
  },
  {
   "cell_type": "markdown",
   "metadata": {
    "slideshow": {
     "slide_type": "subslide"
    }
   },
   "source": [
    "## More books\n",
    "\n",
    "- MacKay: Information Theory, Inference, and Learning Algorithms\n",
    "\n",
    "- John Kruschke: Doing Bayesian Data Analysis. 2nd edition switches to JAGS and Stan (from BUGS). \"The dog book\" for the illustration of dogs on the cover."
   ]
  },
  {
   "cell_type": "markdown",
   "metadata": {
    "slideshow": {
     "slide_type": "subslide"
    }
   },
   "source": [
    "- Andrew Gelman et al. Bayesian Data Analysis. CRC Press (3rd edition). The most influential and widely used Bayesian text by statisticians.\n",
    "\n",
    "- Bayesian methods for Hackers: Pearson CMG. Useful because it serves as more accessible documentation to PyMC. The official PyMC docs assume prior knowledge of Bayesian inference."
   ]
  },
  {
   "cell_type": "markdown",
   "metadata": {
    "slideshow": {
     "slide_type": "slide"
    }
   },
   "source": [
    "## Software\n",
    "\n",
    "- Stan: http://mc-stan.org. Upcoming successor to BUGS / JAGS. Compiles models to C++. Uses Hamiltonian Monte Carlo for posterior sampling.\n",
    "\n",
    "- PyMC3: http://pymc-devs.github.io/pymc3/\n",
    "\n",
    "- Edward: http://edwardlib.org. Variational inference package for Python built on TensorFlow."
   ]
  },
  {
   "cell_type": "markdown",
   "metadata": {
    "slideshow": {
     "slide_type": "slide"
    }
   },
   "source": [
    "## Datasets\n",
    "\n",
    "- All datasets for the book \"Probabilistic Programming and Bayesian methods for Hackers\" are available on GitHub: https://github.com/CamDavidsonPilon/Probabilistic-Programming-and-Bayesian-Methods-for-Hackers"
   ]
  },
  {
   "cell_type": "code",
   "execution_count": 10,
   "metadata": {
    "collapsed": true,
    "slideshow": {
     "slide_type": "skip"
    }
   },
   "outputs": [],
   "source": [
    "from IPython.core.display import HTML\n",
    "def css_styling():\n",
    "    styles = open(\"bayes.css\", \"r\").read()\n",
    "    return HTML(styles)\n",
    "# css_styling()"
   ]
  }
 ],
 "metadata": {
  "celltoolbar": "Slideshow",
  "kernelspec": {
   "display_name": "Python 3",
   "language": "python",
   "name": "python3"
  },
  "language_info": {
   "codemirror_mode": {
    "name": "ipython",
    "version": 3
   },
   "file_extension": ".py",
   "mimetype": "text/x-python",
   "name": "python",
   "nbconvert_exporter": "python",
   "pygments_lexer": "ipython3",
   "version": "3.6.2"
  }
 },
 "nbformat": 4,
 "nbformat_minor": 2
}
